{
  "nbformat": 4,
  "nbformat_minor": 0,
  "metadata": {
    "colab": {
      "name": "Registration and login system using file handling in python.ipynb",
      "provenance": [],
      "collapsed_sections": []
    },
    "kernelspec": {
      "display_name": "Python 3",
      "name": "python3"
    },
    "language_info": {
      "name": "python"
    }
  },
  "cells": [
    {
      "cell_type": "code",
      "metadata": {
        "id": "rP7fJqFCQzGa"
      },
      "source": [
        "def start():\n",
        "  val=\" \"\n",
        "  print(\"Welcome\")\n",
        "  val=input(\"1.Login \\n2.Register\\n3.Forgot password\\n\")\n",
        "  if val=='1':\n",
        "    login()\n",
        "  elif val=='2':\n",
        "    register()\n",
        "  elif val=='3':\n",
        "    forgot_password()\n",
        "  else:\n",
        "    print(\"Enter valid option\")\n",
        "    start()"
      ],
      "execution_count": null,
      "outputs": []
    },
    {
      "cell_type": "code",
      "metadata": {
        "id": "JlF3oTdqRnN0"
      },
      "source": [
        "\n",
        "from getpass import getpass\n",
        "\n",
        "def register():\n",
        "  print(\"Enter your mail-id and password to register\")\n",
        "  mail_id=input('Enter your mail-id:')\n",
        "  check_mailid(mail_id)\n",
        "  password=getpass('Enter password:')\n",
        "  validate(mail_id,password)\n",
        "  f=open('logindb.txt','a')\n",
        "  f.write(mail_id+','+password+'\\n')\n",
        "  print(\"Registration complete.Log in to proceed.\")\n",
        "  f.close()\n",
        "  start()\n"
      ],
      "execution_count": null,
      "outputs": []
    },
    {
      "cell_type": "code",
      "metadata": {
        "id": "qFdrcw-qUjEL"
      },
      "source": [
        "def check_mailid(mail_id):\n",
        "  f=open('logindb.txt','a')\n",
        "  f.close()\n",
        "  f=open('logindb.txt')\n",
        "  text=f.read()\n",
        "  if mail_id in text:\n",
        "    print(\"User already exists. Please login.\")\n",
        "    f.close()\n",
        "    start()\n",
        "  else:\n",
        "    f.close()\n",
        "    return True"
      ],
      "execution_count": null,
      "outputs": []
    },
    {
      "cell_type": "code",
      "metadata": {
        "id": "p2PcE3CxRuM6"
      },
      "source": [
        "def validate(mail_id,password):\n",
        "  temp1=0\n",
        "  temp2=[]\n",
        "  #validating email id\n",
        "  if '@' in mail_id:\n",
        "    if mail_id.index('@') < mail_id.index('.') and abs(mail_id.index('@') - mail_id.index('.')) >1:\n",
        "      temp1=temp1+1\n",
        "    if mail_id.index('@')>3:\n",
        "      temp1=temp1+1   \n",
        "    if ord(mail_id[0])>=97 and ord(mail_id[0])<=122:\n",
        "      temp1=temp1+1\n",
        "  #Validating password\n",
        "  spl_char=\"!@#$%^&*()-+?_=,<>/\"\n",
        "  if len(password)>5 and len(password)<16 and 'len' not in temp2 :\n",
        "      temp2.append('len')\n",
        "  for i in password:\n",
        "    if i in spl_char and 'sc' not in temp2:\n",
        "      temp2.append('sc')\n",
        "    if i.isupper()==True and 'u' not in temp2:\n",
        "      temp2.append('u')\n",
        "    if i.islower()==True and 'l' not in temp2:\n",
        "      temp2.append('l')\n",
        "    if i.isdigit()==True and 'd' not in temp2:\n",
        "      temp2.append('d')\n",
        "\n",
        "  if temp1!=3:\n",
        "    print('Enter valid email id')\n",
        "    register()\n",
        "  if len(temp2) != 5:\n",
        "    print(\"Enter valid password.\\nPassword length should be between 5 and 16 and have minimum one special character,one digit,one uppercase and one lowercase character\")\n",
        "    register()\n",
        "  else:\n",
        "    return True "
      ],
      "execution_count": null,
      "outputs": []
    },
    {
      "cell_type": "code",
      "metadata": {
        "id": "vhCzD5quR0Jd"
      },
      "source": [
        "def login():\n",
        "  mail_id=input('Enter your mail-id to login:')\n",
        "  password=getpass('Enter password to login:')\n",
        "  f=open('logindb.txt','r')\n",
        "  text = f.read()\n",
        "  if mail_id not in text:\n",
        "    print(\"No such user.Please try again\")\n",
        "    start()\n",
        "  find_account = text.find( mail_id+','+password+'\\n')\n",
        "  if find_account == -1:\n",
        "    print('Incorrect password. Try again')\n",
        "    f.close()\n",
        "    start()\n",
        "  else:\n",
        "    print(\"Logged in succuessfully\")\n",
        "    f.close()  "
      ],
      "execution_count": null,
      "outputs": []
    },
    {
      "cell_type": "code",
      "metadata": {
        "id": "-_AP3bfSR2EW"
      },
      "source": [
        "def forgot_password():\n",
        "  mail_id=input('Enter your mail-id:')\n",
        "  f=open('logindb.txt','r')\n",
        "  text=f.read()\n",
        "  if mail_id not in text:\n",
        "      print(\"Enter valid email id\")\n",
        "      forgot_password()\n",
        "  arr=list(map(str,text.split(\"\\n\")))\n",
        "  temp=[]\n",
        "  for i in arr:\n",
        "    if mail_id in i:\n",
        "      temp=i.split(\",\")\n",
        "      print(\"Your password is\",temp[1])\n",
        "      break\n",
        "  val=input(\"Please enter 1 to go main page\")\n",
        "  if val=='1':\n",
        "    start()"
      ],
      "execution_count": null,
      "outputs": []
    },
    {
      "cell_type": "code",
      "metadata": {
        "id": "oxqMUHeGcJiJ"
      },
      "source": [
        "start()"
      ],
      "execution_count": null,
      "outputs": []
    }
  ]
}